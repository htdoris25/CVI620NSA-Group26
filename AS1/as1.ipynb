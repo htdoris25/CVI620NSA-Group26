{
 "cells": [
  {
   "cell_type": "code",
   "execution_count": null,
   "metadata": {},
   "outputs": [],
   "source": [
    "import cv2\n",
    "import numpy as np"
   ]
  },
  {
   "cell_type": "code",
   "execution_count": null,
   "metadata": {},
   "outputs": [],
   "source": [
    "# Part I: A photo booth application\n",
    "\n",
    "cap = cv2.VideoCapture(0)\n",
    "\n",
    "# Counter for naming saved images\n",
    "image_counter = 1\n",
    "\n",
    "if not cap.isOpened():\n",
    "    print(\"Error: Could not open the webcam.\")\n",
    "    exit()\n",
    "\n",
    "while True:\n",
    "    # Capture frame-by-frame\n",
    "    ret, frame = cap.read()\n",
    "    if not ret:\n",
    "        print(\"Error: Failed to grab a frame.\")\n",
    "        break\n",
    "\n",
    "    # Display the video stream\n",
    "    cv2.imshow(\"Webcam Video Stream\", frame)\n",
    "\n",
    "    # Wait for a key press\n",
    "    key = cv2.waitKey(1)\n",
    "\n",
    "    # Press 's' to save a snapshot\n",
    "    if key == ord('s'):\n",
    "        image_name = f\"image{image_counter}.jpg\"\n",
    "        cv2.imwrite(image_name, frame)\n",
    "        print(f\"Snapshot saved as {image_name}\")\n",
    "        image_counter += 1\n",
    "\n",
    "    # Press 'q' to quit the application\n",
    "    if key == ord('q'):\n",
    "        print(\"Exiting the application.\")\n",
    "        break\n",
    "\n",
    "# Release the webcam and close OpenCV windows\n",
    "cap.release()\n",
    "cv2.destroyAllWindows()\n"
   ]
  }
 ],
 "metadata": {
  "kernelspec": {
   "display_name": "Python (venv_02)",
   "language": "python",
   "name": "venv_02"
  },
  "language_info": {
   "codemirror_mode": {
    "name": "ipython",
    "version": 3
   },
   "file_extension": ".py",
   "mimetype": "text/x-python",
   "name": "python",
   "nbconvert_exporter": "python",
   "pygments_lexer": "ipython3",
   "version": "3.13.1"
  }
 },
 "nbformat": 4,
 "nbformat_minor": 2
}
