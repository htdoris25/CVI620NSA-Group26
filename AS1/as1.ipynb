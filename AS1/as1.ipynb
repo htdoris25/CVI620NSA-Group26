{
 "cells": [
  {
   "cell_type": "code",
   "execution_count": 1,
   "metadata": {},
   "outputs": [],
   "source": [
    "import cv2\n",
    "import numpy as np"
   ]
  },
  {
   "cell_type": "code",
   "execution_count": 26,
   "metadata": {},
   "outputs": [
    {
     "name": "stdout",
     "output_type": "stream",
     "text": [
      "Snapshot saved successfully as image1.jpg\n",
      "Snapshot saved successfully as image2.jpg\n",
      "Snapshot saved successfully as image3.jpg\n",
      "Snapshot saved successfully as image4.jpg\n",
      "Snapshot saved successfully as image5.jpg\n",
      "Snapshot saved successfully as image6.jpg\n"
     ]
    }
   ],
   "source": [
    "# Part I: A photo booth application\n",
    "\n",
    "cap = cv2.VideoCapture(0)\n",
    "\n",
    "# Counter for naming saved images\n",
    "image_counter = 1\n",
    "\n",
    "if not cap.isOpened(): # Check if the webcam is opened correctly\n",
    "    print(\"Error: Unable to open the webcam.\")\n",
    "    exit()\n",
    "\n",
    "ret, frame = cap.read()\n",
    "if ret:\n",
    "    cv2.imshow(\"Webcam Video Stream\", frame)\n",
    "\n",
    "while True:\n",
    "    ret, frame = cap.read()\n",
    "    if not ret:\n",
    "        print(\"Error: Failed to grab a frame.\")\n",
    "        break\n",
    "    \n",
    "    # Check if the window is still open, if not, break\n",
    "    if cv2.getWindowProperty('Webcam Video Stream', cv2.WND_PROP_VISIBLE) < 1:\n",
    "        break\n",
    "    \n",
    "    # Display the video stream\n",
    "    cv2.imshow(\"Webcam Video Stream\", frame)\n",
    "\n",
    "    # Wait for a key press\n",
    "    key = cv2.waitKey(1)\n",
    "\n",
    "\n",
    "    # Press 's' to save a snapshot\n",
    "    if key == ord('s'):\n",
    "        image_name = f\"image{image_counter}.jpg\"\n",
    "        if cv2.imwrite(image_name, frame):\n",
    "            print(f\"Snapshot saved successfully as {image_name}\")\n",
    "            image_counter += 1\n",
    "        else:\n",
    "            print(f\"Error: Failed to save snapshot {image_name}. Please check write permissions.\")\n",
    "\n",
    "    # Press 'q' to quit the application\n",
    "    elif key == ord('q'):\n",
    "        print(\"Exiting the application.\")\n",
    "        break\n",
    "\n",
    "# Release the webcam and close the window\n",
    "cap.release()\n",
    "cv2.destroyAllWindows()\n"
   ]
  },
  {
   "cell_type": "code",
   "execution_count": 3,
   "metadata": {},
   "outputs": [],
   "source": [
    "# Part 2 \n",
    "\n",
    "# Brightness and Contrast\n",
    "\n",
    "img1 = cv2.imread(\"dog.jpg\")\n",
    "# Instead of specifying the dimensions, None will let them be calculated automatically with the scale factor\n",
    "img1 = cv2.resize(img1, None, fx = 0.5, fy = 0.5)\n",
    "cv2.imshow(\"First img\", img1)\n",
    "cv2.waitKey(0)\n",
    "cv2.destroyAllWindows()\n",
    "\n",
    "# Applies to all pixels by multiplying and adding values to the channels of the image\n",
    "# Takes the absolute value of the pixels to prevent negative result\n",
    "# Also clips the image so it doesn't go past 255\n",
    "# Equivalent to np.clip(0.5 * img + 150, 0, 255).astype(np.uint8)\n",
    "bright_img = cv2.convertScaleAbs(img1, beta = 150)\n",
    "cv2.imshow(\"Brightened Image\", bright_img)\n",
    "cv2.waitKey(0)\n",
    "cv2.destroyAllWindows()\n",
    "\n",
    "\n",
    "low_contrast_img = cv2.convertScaleAbs(img1, alpha = 0.5)\n",
    "cv2.imshow(\"Low Contrast Image\", low_contrast_img)\n",
    "cv2.waitKey(0)\n",
    "cv2.destroyAllWindows()"
   ]
  },
  {
   "cell_type": "code",
   "execution_count": 4,
   "metadata": {},
   "outputs": [
    {
     "name": "stdout",
     "output_type": "stream",
     "text": [
      "Image 1 shape:  (628, 800) Image 2 shape:  (628, 800)\n",
      "Please enter a numerical value between 0 and 1.\n"
     ]
    }
   ],
   "source": [
    "# Linear Blend\n",
    "\n",
    "img2 = cv2.imread(\"dog2.jpg\")\n",
    "# Access the first two elements of img2's shape, the height and width\n",
    "h, w = img1.shape[:2]\n",
    "x, y = 230, 450\n",
    "# Manually slice the pixels from starting point x,y + the h, w of img1 to get the same size\n",
    "img2 = img2[y:y+h, x:x+w]\n",
    "print(\"Image 1 shape: \", img1.shape[:2], \"Image 2 shape: \", img2.shape[:2])\n",
    "\n",
    "cv2.imshow(\"Second img\", img2)\n",
    "cv2.waitKey(0)\n",
    "cv2.destroyAllWindows()\n",
    "\n",
    "# Float input validation\n",
    "while True:\n",
    "    alpha = input(\"Enter a value between 0 and 1: \")\n",
    "    try:\n",
    "        alpha = float(alpha)  \n",
    "        if alpha < 0 or alpha > 1:  \n",
    "            print(\"Please enter a number between 0 and 1.\")\n",
    "        else:\n",
    "            break\n",
    "    except ValueError:\n",
    "        print(\"Please enter a numerical value between 0 and 1.\")\n",
    "\n",
    "# 0 would be img1, 1 would be img2, any value between are two images meshed together\n",
    "blend = (1 - alpha) * img1 + alpha * img2\n",
    "blend = blend.astype(np.uint8)\n",
    "\n",
    "cv2.imshow(\"Blended\", blend)\n",
    "cv2.waitKey(0)\n",
    "cv2.destroyAllWindows()"
   ]
  },
  {
   "cell_type": "code",
   "execution_count": 5,
   "metadata": {},
   "outputs": [],
   "source": [
    "# Part 3\n",
    "\n",
    "img3 = cv2.imread(\"dog2.jpg\")\n",
    "img3 = cv2.resize(img3, None, fx = 0.4, fy = 0.4)\n",
    "# Draws a rectangle on img3, from (x = 150, y = 180)  to (400, 400)\n",
    "# With color (B = 0, G = 255, R = 0), and thickness 4\n",
    "cv2.rectangle(img3, (150, 180), (400, 400), (0, 255, 0), thickness = 4)\n",
    "cv2.imshow(\"Part 3 Thickness 4\", img3)\n",
    "cv2.waitKey(0)\n",
    "cv2.destroyAllWindows()\n",
    "\n",
    "cv2.rectangle(img3, (150, 180), (400, 400), (0, 255, 0), thickness = -1)\n",
    "cv2.imshow(\"Part 3 Thickness -1\", img3)\n",
    "cv2.waitKey(0)\n",
    "cv2.destroyAllWindows()\n",
    "\n",
    "cv2.rectangle(img3, (150, 180), (400, 400), (0, 255, 0), thickness = 4)\n",
    "# Puts the text Doggo on img3 at (230, 290), with font family HERSHEY_SIMPLEX\n",
    "# Scale size 1, colored white (255, 255, 255), thickness 2 \n",
    "cv2.putText(img3, \"Doggo\", (230, 290), cv2.FONT_HERSHEY_SIMPLEX, 1, (255, 255, 255), 2)\n",
    "cv2.imshow(\"Part 3 Text\", img3)\n",
    "cv2.waitKey(0)\n",
    "cv2.destroyAllWindows()\n"
   ]
  }
 ],
 "metadata": {
  "kernelspec": {
   "display_name": "CVI620_virtual_env",
   "language": "python",
   "name": "python3"
  },
  "language_info": {
   "codemirror_mode": {
    "name": "ipython",
    "version": 3
   },
   "file_extension": ".py",
   "mimetype": "text/x-python",
   "name": "python",
   "nbconvert_exporter": "python",
   "pygments_lexer": "ipython3",
   "version": "3.12.8"
  }
 },
 "nbformat": 4,
 "nbformat_minor": 2
}
